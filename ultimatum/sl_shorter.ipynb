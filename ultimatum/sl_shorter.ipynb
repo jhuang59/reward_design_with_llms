{
 "cells": [
  {
   "cell_type": "code",
   "execution_count": 1,
   "id": "1c12fe03",
   "metadata": {},
   "outputs": [],
   "source": [
    "import torch\n",
    "import torch.nn as nn\n",
    "import torch.nn.functional as F\n",
    "import torch.optim as optim\n",
    "import torch.utils.data as data\n",
    "\n",
    "from tqdm.notebook import trange, tqdm\n",
    "import matplotlib.pyplot as plt\n",
    "import numpy as np\n",
    "import pickle as pkl\n",
    "\n",
    "import copy\n",
    "import random\n",
    "import time\n",
    "# credits to: https://colab.research.google.com/github/bentrevett/pytorch-image-classification/blob/master/1_mlp.ipynb#scrollTo=p-gtfzafREwc"
   ]
  },
  {
   "cell_type": "code",
   "execution_count": 2,
   "id": "bf023cd1",
   "metadata": {},
   "outputs": [],
   "source": [
    "class MLP(nn.Module):\n",
    "    def __init__(self, input_dim, output_dim):\n",
    "        super().__init__()\n",
    "\n",
    "        self.input_fc = nn.Linear(input_dim, 32)\n",
    "        self.hidden_fc = nn.Linear(32, 32)\n",
    "        self.output_fc = nn.Linear(32, output_dim)\n",
    "\n",
    "    def forward(self, x):\n",
    "\n",
    "        # x = [batch size, input_size]\n",
    "\n",
    "        batch_size = x.shape[0]\n",
    "\n",
    "        h_1 = F.relu(self.input_fc(x))\n",
    "\n",
    "        # h_1 = [batch size, 250]\n",
    "\n",
    "        h_2 = F.relu(self.hidden_fc(h_1))\n",
    "\n",
    "        # h_2 = [batch size, 100]\n",
    "\n",
    "        y_pred = self.output_fc(h_2)\n",
    "\n",
    "        # y_pred = [batch size, output dim]\n",
    "\n",
    "        return y_pred"
   ]
  },
  {
   "cell_type": "code",
   "execution_count": 3,
   "id": "8c6cb7be",
   "metadata": {
    "scrolled": true
   },
   "outputs": [],
   "source": [
    "def calculate_accuracy(y_pred, y):\n",
    "    top_pred = y_pred.argmax(1, keepdim=True)\n",
    "    correct = top_pred.eq(y.view_as(top_pred)).sum()\n",
    "    acc = correct.float() / y.shape[0]\n",
    "    return acc\n",
    "\n",
    "\n",
    "def evaluate(model, iterator, criterion):\n",
    "\n",
    "    epoch_loss = []\n",
    "    epoch_acc = []\n",
    "    to_save = []\n",
    "\n",
    "    model.eval()\n",
    "\n",
    "    with torch.no_grad():\n",
    "\n",
    "        for (x, y) in tqdm(iterator, desc=\"Evaluating\", leave=False):\n",
    "         \n",
    "            x = torch.tensor([x]).float()\n",
    "\n",
    "            y_pred = model(x)\n",
    "\n",
    "            save_lst = x[0].tolist() + [np.argmax(y_pred[0].tolist())]\n",
    "            \n",
    "            to_save.append(save_lst)\n",
    "\n",
    "            loss = criterion(y_pred, y.long())\n",
    "\n",
    "            acc = calculate_accuracy(y_pred, y)\n",
    "\n",
    "            epoch_loss += [loss.item()]\n",
    "            epoch_acc += [acc.item()]\n",
    "\n",
    "    assert len(to_save) == 50\n",
    "    return np.mean(epoch_loss), np.mean(epoch_acc), np.std(epoch_acc), to_save\n",
    "\n",
    "\n",
    "def train(model, iterator, optimizer, criterion):\n",
    "\n",
    "    epoch_loss = 0\n",
    "    epoch_acc = 0\n",
    "\n",
    "    model.train()\n",
    "\n",
    "    for (x, y) in tqdm(iterator, desc=\"Training\", leave=False):\n",
    "        \n",
    "        #x = torch.stack(x).float()\n",
    "        x = torch.tensor([x]).float()\n",
    "        \n",
    "        optimizer.zero_grad()\n",
    "\n",
    "        y_pred = model(x)\n",
    "                \n",
    "        loss = criterion(y_pred, y.long())\n",
    "\n",
    "        acc = calculate_accuracy(y_pred, y)\n",
    "\n",
    "        loss.backward()\n",
    "\n",
    "        optimizer.step()\n",
    "\n",
    "        epoch_loss += loss.item()\n",
    "        epoch_acc += acc.item()\n",
    "\n",
    "    return epoch_loss / len(iterator), epoch_acc / len(iterator)\n",
    "\n",
    "def main(train_iterator, test_iterator):\n",
    "    INPUT_DIM = 2\n",
    "    OUTPUT_DIM = 2\n",
    "    model = MLP(INPUT_DIM, OUTPUT_DIM)\n",
    "    criterion = nn.CrossEntropyLoss()\n",
    "    optimizer = optim.Adam(model.parameters(), lr=0.01)\n",
    "    \n",
    "    EPOCHS = 10\n",
    "    best_valid_loss = float('inf')\n",
    "    best_to_save = []\n",
    "    best_valid_acc_std = None\n",
    "    best_train_acc = 0\n",
    "    for epoch in trange(EPOCHS):\n",
    "        train_loss, train_acc = train(model, train_iterator, optimizer, criterion)\n",
    "        valid_loss, valid_acc, valid_acc_std, to_save = evaluate(model, test_iterator, criterion)\n",
    "\n",
    "        if valid_loss < best_valid_loss:\n",
    "            best_valid_loss = valid_loss\n",
    "            best_to_save = to_save\n",
    "            best_train_acc = train_acc\n",
    "            best_valid_acc_std = (valid_acc, valid_acc_std)\n",
    "            print(\"best!\")\n",
    "\n",
    "        print(f'Epoch: {epoch+1:02}')\n",
    "        print(f'\\tTrain Loss: {train_loss:.3f} | Train Acc: {train_acc*100:.2f}%')\n",
    "        print(f'\\t Val. Loss: {valid_loss:.3f} |  Val. Acc: {valid_acc*100:.2f}% | Val. Std {valid_acc_std}')\n",
    "\n",
    "    #print(f'\\t Val. Loss: {best_valid_loss:.3f} |  Val. Acc: {best_valid_acc_std[0]} | Val. Std {best_valid_acc_std[1]} | Train Acc: {best_train_acc:.3f}')\n",
    "    return np.array(to_save) "
   ]
  },
  {
   "cell_type": "code",
   "execution_count": 4,
   "id": "53975ad8",
   "metadata": {
    "scrolled": false
   },
   "outputs": [
    {
     "name": "stdout",
     "output_type": "stream",
     "text": [
      "[[2.3 7.7 0. ]]\n"
     ]
    },
    {
     "data": {
      "application/vnd.jupyter.widget-view+json": {
       "model_id": "5dbac1d7c84c435ea0072815355adcb8",
       "version_major": 2,
       "version_minor": 0
      },
      "text/plain": [
       "  0%|          | 0/10 [00:00<?, ?it/s]"
      ]
     },
     "metadata": {},
     "output_type": "display_data"
    },
    {
     "data": {
      "application/vnd.jupyter.widget-view+json": {
       "model_id": "d740273d4d654d38a6eb4e8ea72b0d2a",
       "version_major": 2,
       "version_minor": 0
      },
      "text/plain": [
       "Training:   0%|          | 0/1 [00:00<?, ?it/s]"
      ]
     },
     "metadata": {},
     "output_type": "display_data"
    },
    {
     "data": {
      "application/vnd.jupyter.widget-view+json": {
       "model_id": "225fd967c4b14173ba8ed6ee48cdad95",
       "version_major": 2,
       "version_minor": 0
      },
      "text/plain": [
       "Evaluating:   0%|          | 0/50 [00:00<?, ?it/s]"
      ]
     },
     "metadata": {},
     "output_type": "display_data"
    },
    {
     "name": "stdout",
     "output_type": "stream",
     "text": [
      "best!\n",
      "Epoch: 01\n",
      "\tTrain Loss: 0.883 | Train Acc: 0.00%\n",
      "\t Val. Loss: 0.644 |  Val. Acc: 60.00% | Val. Std 0.4898979485566356\n"
     ]
    },
    {
     "data": {
      "application/vnd.jupyter.widget-view+json": {
       "model_id": "7b912471fdb74ccdaf7c6d978891770b",
       "version_major": 2,
       "version_minor": 0
      },
      "text/plain": [
       "Training:   0%|          | 0/1 [00:00<?, ?it/s]"
      ]
     },
     "metadata": {},
     "output_type": "display_data"
    },
    {
     "data": {
      "application/vnd.jupyter.widget-view+json": {
       "model_id": "872551104644494a8c5e92eacaebeccb",
       "version_major": 2,
       "version_minor": 0
      },
      "text/plain": [
       "Evaluating:   0%|          | 0/50 [00:00<?, ?it/s]"
      ]
     },
     "metadata": {},
     "output_type": "display_data"
    },
    {
     "name": "stdout",
     "output_type": "stream",
     "text": [
      "best!\n",
      "Epoch: 02\n",
      "\tTrain Loss: 0.493 | Train Acc: 100.00%\n",
      "\t Val. Loss: 0.453 |  Val. Acc: 84.00% | Val. Std 0.3666060555964672\n"
     ]
    },
    {
     "data": {
      "application/vnd.jupyter.widget-view+json": {
       "model_id": "d10d7e85124b4fd79215b29592ab1ef6",
       "version_major": 2,
       "version_minor": 0
      },
      "text/plain": [
       "Training:   0%|          | 0/1 [00:00<?, ?it/s]"
      ]
     },
     "metadata": {},
     "output_type": "display_data"
    },
    {
     "data": {
      "application/vnd.jupyter.widget-view+json": {
       "model_id": "8ebb3cf804004c3ca25600fd7506c0ac",
       "version_major": 2,
       "version_minor": 0
      },
      "text/plain": [
       "Evaluating:   0%|          | 0/50 [00:00<?, ?it/s]"
      ]
     },
     "metadata": {},
     "output_type": "display_data"
    },
    {
     "name": "stdout",
     "output_type": "stream",
     "text": [
      "best!\n",
      "Epoch: 03\n",
      "\tTrain Loss: 0.294 | Train Acc: 100.00%\n",
      "\t Val. Loss: 0.323 |  Val. Acc: 100.00% | Val. Std 0.0\n"
     ]
    },
    {
     "data": {
      "application/vnd.jupyter.widget-view+json": {
       "model_id": "71950451c5f9408aafc26ebe49292d6a",
       "version_major": 2,
       "version_minor": 0
      },
      "text/plain": [
       "Training:   0%|          | 0/1 [00:00<?, ?it/s]"
      ]
     },
     "metadata": {},
     "output_type": "display_data"
    },
    {
     "data": {
      "application/vnd.jupyter.widget-view+json": {
       "model_id": "db2bbb898e844dd1be18bad9bd2c60fd",
       "version_major": 2,
       "version_minor": 0
      },
      "text/plain": [
       "Evaluating:   0%|          | 0/50 [00:00<?, ?it/s]"
      ]
     },
     "metadata": {},
     "output_type": "display_data"
    },
    {
     "name": "stdout",
     "output_type": "stream",
     "text": [
      "best!\n",
      "Epoch: 04\n",
      "\tTrain Loss: 0.180 | Train Acc: 100.00%\n",
      "\t Val. Loss: 0.224 |  Val. Acc: 100.00% | Val. Std 0.0\n"
     ]
    },
    {
     "data": {
      "application/vnd.jupyter.widget-view+json": {
       "model_id": "7ddcc3a14e194fd3829a263eb0846324",
       "version_major": 2,
       "version_minor": 0
      },
      "text/plain": [
       "Training:   0%|          | 0/1 [00:00<?, ?it/s]"
      ]
     },
     "metadata": {},
     "output_type": "display_data"
    },
    {
     "data": {
      "application/vnd.jupyter.widget-view+json": {
       "model_id": "bd31edece8594819832ef1bb7dd47517",
       "version_major": 2,
       "version_minor": 0
      },
      "text/plain": [
       "Evaluating:   0%|          | 0/50 [00:00<?, ?it/s]"
      ]
     },
     "metadata": {},
     "output_type": "display_data"
    },
    {
     "name": "stdout",
     "output_type": "stream",
     "text": [
      "best!\n",
      "Epoch: 05\n",
      "\tTrain Loss: 0.102 | Train Acc: 100.00%\n",
      "\t Val. Loss: 0.151 |  Val. Acc: 100.00% | Val. Std 0.0\n"
     ]
    },
    {
     "data": {
      "application/vnd.jupyter.widget-view+json": {
       "model_id": "55f7b564183d45feb1aeef77a35d3d75",
       "version_major": 2,
       "version_minor": 0
      },
      "text/plain": [
       "Training:   0%|          | 0/1 [00:00<?, ?it/s]"
      ]
     },
     "metadata": {},
     "output_type": "display_data"
    },
    {
     "data": {
      "application/vnd.jupyter.widget-view+json": {
       "model_id": "9aa37f4a17b04dd392a351501809bdd7",
       "version_major": 2,
       "version_minor": 0
      },
      "text/plain": [
       "Evaluating:   0%|          | 0/50 [00:00<?, ?it/s]"
      ]
     },
     "metadata": {},
     "output_type": "display_data"
    },
    {
     "name": "stdout",
     "output_type": "stream",
     "text": [
      "best!\n",
      "Epoch: 06\n",
      "\tTrain Loss: 0.054 | Train Acc: 100.00%\n",
      "\t Val. Loss: 0.100 |  Val. Acc: 100.00% | Val. Std 0.0\n"
     ]
    },
    {
     "data": {
      "application/vnd.jupyter.widget-view+json": {
       "model_id": "6aea2dd5166d491d85063a90aa2202b3",
       "version_major": 2,
       "version_minor": 0
      },
      "text/plain": [
       "Training:   0%|          | 0/1 [00:00<?, ?it/s]"
      ]
     },
     "metadata": {},
     "output_type": "display_data"
    },
    {
     "data": {
      "application/vnd.jupyter.widget-view+json": {
       "model_id": "9e0bb2ed607742828b9eade088d69dfe",
       "version_major": 2,
       "version_minor": 0
      },
      "text/plain": [
       "Evaluating:   0%|          | 0/50 [00:00<?, ?it/s]"
      ]
     },
     "metadata": {},
     "output_type": "display_data"
    },
    {
     "name": "stdout",
     "output_type": "stream",
     "text": [
      "best!\n",
      "Epoch: 07\n",
      "\tTrain Loss: 0.028 | Train Acc: 100.00%\n",
      "\t Val. Loss: 0.067 |  Val. Acc: 100.00% | Val. Std 0.0\n"
     ]
    },
    {
     "data": {
      "application/vnd.jupyter.widget-view+json": {
       "model_id": "8bd73c9f36eb45b3bfd4b021b012188f",
       "version_major": 2,
       "version_minor": 0
      },
      "text/plain": [
       "Training:   0%|          | 0/1 [00:00<?, ?it/s]"
      ]
     },
     "metadata": {},
     "output_type": "display_data"
    },
    {
     "data": {
      "application/vnd.jupyter.widget-view+json": {
       "model_id": "80ebb4bc7a1c4b50b2954bfecd2d8ee7",
       "version_major": 2,
       "version_minor": 0
      },
      "text/plain": [
       "Evaluating:   0%|          | 0/50 [00:00<?, ?it/s]"
      ]
     },
     "metadata": {},
     "output_type": "display_data"
    },
    {
     "name": "stdout",
     "output_type": "stream",
     "text": [
      "best!\n",
      "Epoch: 08\n",
      "\tTrain Loss: 0.014 | Train Acc: 100.00%\n",
      "\t Val. Loss: 0.045 |  Val. Acc: 100.00% | Val. Std 0.0\n"
     ]
    },
    {
     "data": {
      "application/vnd.jupyter.widget-view+json": {
       "model_id": "51a65727acf54382a3da2b580031a5b4",
       "version_major": 2,
       "version_minor": 0
      },
      "text/plain": [
       "Training:   0%|          | 0/1 [00:00<?, ?it/s]"
      ]
     },
     "metadata": {},
     "output_type": "display_data"
    },
    {
     "data": {
      "application/vnd.jupyter.widget-view+json": {
       "model_id": "206dccf9f5b2455cbd2c434a1c722152",
       "version_major": 2,
       "version_minor": 0
      },
      "text/plain": [
       "Evaluating:   0%|          | 0/50 [00:00<?, ?it/s]"
      ]
     },
     "metadata": {},
     "output_type": "display_data"
    },
    {
     "name": "stdout",
     "output_type": "stream",
     "text": [
      "best!\n",
      "Epoch: 09\n",
      "\tTrain Loss: 0.007 | Train Acc: 100.00%\n",
      "\t Val. Loss: 0.030 |  Val. Acc: 100.00% | Val. Std 0.0\n"
     ]
    },
    {
     "data": {
      "application/vnd.jupyter.widget-view+json": {
       "model_id": "0bdb855c30684affbdfa81c0d57a5779",
       "version_major": 2,
       "version_minor": 0
      },
      "text/plain": [
       "Training:   0%|          | 0/1 [00:00<?, ?it/s]"
      ]
     },
     "metadata": {},
     "output_type": "display_data"
    },
    {
     "data": {
      "application/vnd.jupyter.widget-view+json": {
       "model_id": "a20e1e13ff61475c8058513129fa3c95",
       "version_major": 2,
       "version_minor": 0
      },
      "text/plain": [
       "Evaluating:   0%|          | 0/50 [00:00<?, ?it/s]"
      ]
     },
     "metadata": {},
     "output_type": "display_data"
    },
    {
     "name": "stdout",
     "output_type": "stream",
     "text": [
      "best!\n",
      "Epoch: 10\n",
      "\tTrain Loss: 0.003 | Train Acc: 100.00%\n",
      "\t Val. Loss: 0.021 |  Val. Acc: 100.00% | Val. Std 0.0\n",
      "True\n"
     ]
    }
   ],
   "source": [
    "threshold=None\n",
    "condition = \"inequity_aversion\"\n",
    "with open(f\"{condition}_{threshold}.pkl\", \"rb\") as f:\n",
    "        pkldata = pkl.load(f)\n",
    "        train_data, test_data = np.array(pkldata[\"train\"]), np.array(pkldata[\"test\"])\n",
    "if threshold == 0.3 and condition == 'low_high_percentage':\n",
    "    train_data = np.array([[9.78, 0.22, 0.]])\n",
    "elif threshold == 0.6 and condition == 'low_high_percentage':\n",
    "    train_data = np.array([[4.71, 5.29, 0.]])\n",
    "elif threshold == 10 and condition == 'low_high_payoff':\n",
    "    train_data = np.array([[5.4, 4.6, 0.]])\n",
    "elif threshold == 100 and condition == 'low_high_payoff':\n",
    "    train_data = np.array([[700, 300, 1.]])\n",
    "elif threshold == None and condition == 'inequity_aversion':\n",
    "    train_data = np.array([[2.3, 7.7, 0.]])\n",
    "print(train_data)\n",
    "\n",
    "seed = 0\n",
    "random.seed(seed)\n",
    "np.random.seed(seed)\n",
    "torch.manual_seed(seed)\n",
    "torch.cuda.manual_seed(seed)\n",
    "torch.backends.cudnn.deterministic = True\n",
    "\n",
    "# normalize\n",
    "shifted_train_data = np.copy(train_data)\n",
    "shifted_test_data = np.copy(test_data)\n",
    "save_shifted_test_data = np.copy(shifted_test_data) # for debugging purposes\n",
    "shifted_train_data = [[[x[0], x[1]], x[2]] for x in shifted_train_data]\n",
    "shifted_test_data = [[[x[0], x[1]], x[2]] for x in shifted_test_data]\n",
    "\n",
    "\n",
    "train_iterator = data.DataLoader(shifted_train_data,\n",
    "                                shuffle=True,\n",
    "                                batch_size=1)\n",
    "test_iterator = data.DataLoader(shifted_test_data,\n",
    "                                shuffle=False,\n",
    "                                batch_size=1)\n",
    "\n",
    "to_save = main(train_iterator, test_iterator)\n",
    "predicted_labels = to_save[:, 2]\n",
    "\n",
    "# # assert that test data loader did not shuffle the test batch \n",
    "assert (np.all(np.around(to_save[:, :2],3) == np.around(save_shifted_test_data[:, :2],3)))\n",
    "sl_labeled_test_data = np.copy(test_data)\n",
    "correct_labels = np.copy(sl_labeled_test_data[:, 2])\n",
    "sl_labeled_test_data[:,2] = predicted_labels\n",
    "print(np.all(correct_labels == predicted_labels))\n",
    "\n",
    "#with open(f\"sl_responses_shorter/{condition}_{threshold}_train.pkl\", \"wb\") as f:\n",
    "#    pkl.dump({'test':sl_labeled_test_data}, f)"
   ]
  },
  {
   "cell_type": "code",
   "execution_count": null,
   "id": "2064f26f",
   "metadata": {},
   "outputs": [],
   "source": []
  },
  {
   "cell_type": "code",
   "execution_count": null,
   "id": "800e6f6e",
   "metadata": {},
   "outputs": [],
   "source": []
  }
 ],
 "metadata": {
  "kernelspec": {
   "display_name": "neg",
   "language": "python",
   "name": "python3"
  },
  "language_info": {
   "codemirror_mode": {
    "name": "ipython",
    "version": 3
   },
   "file_extension": ".py",
   "mimetype": "text/x-python",
   "name": "python",
   "nbconvert_exporter": "python",
   "pygments_lexer": "ipython3",
   "version": "3.9.16"
  },
  "vscode": {
   "interpreter": {
    "hash": "0054cf4bc0f0acb96206614c856cfb0d54dce0b844c2ee51a666f06493845228"
   }
  }
 },
 "nbformat": 4,
 "nbformat_minor": 5
}
